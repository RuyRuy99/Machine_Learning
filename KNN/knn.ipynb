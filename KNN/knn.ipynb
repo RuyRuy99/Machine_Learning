{
  "cells": [
    {
      "cell_type": "markdown",
      "metadata": {
        "id": "0JFhnlk7at7A"
      },
      "source": [
        "# <font color=\"darkblue\"> Prática 02: Algoritmo k-NN </font>"
      ]
    },
    {
      "cell_type": "markdown",
      "metadata": {
        "id": "2SsZq3Om115w"
      },
      "source": [
        "### Ruy de Morais e Silva - 20190175695"
      ]
    },
    {
      "cell_type": "markdown",
      "metadata": {
        "id": "_Txy0UzyawTX"
      },
      "source": [
        "**Objetivos:**\n",
        "\n",
        "\n",
        "*   Aplicar o algoritmo k-NN a um problema prático.\n",
        "*   Apresentar as funções do Scikit-Learn que lidam com o k-NN.\n",
        "\n"
      ]
    },
    {
      "cell_type": "markdown",
      "metadata": {
        "id": "keyryvT2bIae"
      },
      "source": [
        "**Descrição:**\n",
        "\n",
        "Implemente duas versões de um classificador usando o algoritmo k-NN que identifica dígitos escritos à mão a partir de um conjunto de imagens. Utilize o dataset <i> Digits </i> da biblioteca Scikit-Learn. Na primeira versão, você implementará o algoritmo de classificação do zero, enquanto que na segunda você deverá utilizar a biblioteca Scikit-Learn para realizar a classificação. Ao final, compare as acurácias obtidas e o tempo de execução de cada versão."
      ]
    },
    {
      "cell_type": "markdown",
      "metadata": {
        "id": "wWnD-OFybVw1"
      },
      "source": [
        "# <font color=\"darkblue\"> Solução </font>"
      ]
    },
    {
      "cell_type": "markdown",
      "metadata": {
        "id": "ioVFway7cWiw"
      },
      "source": [
        "### Descrição do Dataset"
      ]
    },
    {
      "cell_type": "code",
      "execution_count": 1,
      "metadata": {
        "colab": {
          "base_uri": "https://localhost:8080/"
        },
        "id": "Lh0fUl5BbR5J",
        "outputId": "c9f11e09-8ddf-4685-f0f6-18da41d904e3"
      },
      "outputs": [
        {
          "name": "stdout",
          "output_type": "stream",
          "text": [
            ".. _digits_dataset:\n",
            "\n",
            "Optical recognition of handwritten digits dataset\n",
            "--------------------------------------------------\n",
            "\n",
            "**Data Set Characteristics:**\n",
            "\n",
            ":Number of Instances: 1797\n",
            ":Number of Attributes: 64\n",
            ":Attribute Information: 8x8 image of integer pixels in the range 0..16.\n",
            ":Missing Attribute Values: None\n",
            ":Creator: E. Alpaydin (alpaydin '@' boun.edu.tr)\n",
            ":Date: July; 1998\n",
            "\n",
            "This is a copy of the test set of the UCI ML hand-written digits datasets\n",
            "https://archive.ics.uci.edu/ml/datasets/Optical+Recognition+of+Handwritten+Digits\n",
            "\n",
            "The data set contains images of hand-written digits: 10 classes where\n",
            "each class refers to a digit.\n",
            "\n",
            "Preprocessing programs made available by NIST were used to extract\n",
            "normalized bitmaps of handwritten digits from a preprinted form. From a\n",
            "total of 43 people, 30 contributed to the training set and different 13\n",
            "to the test set. 32x32 bitmaps are divided into nonoverlapping blocks of\n",
            "4x4 and the number of on pixels are counted in each block. This generates\n",
            "an input matrix of 8x8 where each element is an integer in the range\n",
            "0..16. This reduces dimensionality and gives invariance to small\n",
            "distortions.\n",
            "\n",
            "For info on NIST preprocessing routines, see M. D. Garris, J. L. Blue, G.\n",
            "T. Candela, D. L. Dimmick, J. Geist, P. J. Grother, S. A. Janet, and C.\n",
            "L. Wilson, NIST Form-Based Handprint Recognition System, NISTIR 5469,\n",
            "1994.\n",
            "\n",
            ".. dropdown:: References\n",
            "\n",
            "  - C. Kaynak (1995) Methods of Combining Multiple Classifiers and Their\n",
            "    Applications to Handwritten Digit Recognition, MSc Thesis, Institute of\n",
            "    Graduate Studies in Science and Engineering, Bogazici University.\n",
            "  - E. Alpaydin, C. Kaynak (1998) Cascading Classifiers, Kybernetika.\n",
            "  - Ken Tang and Ponnuthurai N. Suganthan and Xi Yao and A. Kai Qin.\n",
            "    Linear dimensionalityreduction using relevance weighted LDA. School of\n",
            "    Electrical and Electronic Engineering Nanyang Technological University.\n",
            "    2005.\n",
            "  - Claudio Gentile. A New Approximate Maximal Margin Classification\n",
            "    Algorithm. NIPS. 2000.\n",
            "\n",
            "\n",
            "\n"
          ]
        }
      ],
      "source": [
        "#%matplotlib inline\n",
        "import numpy as np\n",
        "import matplotlib.pyplot as plt\n",
        "from sklearn.datasets import load_digits\n",
        "from sklearn.model_selection import train_test_split\n",
        "from sklearn.neighbors import KNeighborsClassifier\n",
        "from sklearn.metrics import classification_report\n",
        "from sklearn import metrics\n",
        "\n",
        "digits = load_digits()\n",
        "\n",
        "# Conhecendo dataset \n",
        "print(digits.DESCR + \"\\n\\n\")"
      ]
    },
    {
      "cell_type": "markdown",
      "metadata": {
        "id": "_JtDQu4Bcp1X"
      },
      "source": [
        "### Exibição das imagens"
      ]
    },
    {
      "cell_type": "code",
      "execution_count": 2,
      "metadata": {
        "colab": {
          "base_uri": "https://localhost:8080/",
          "height": 222
        },
        "id": "5_8VQTOfb3c9",
        "outputId": "ea6162ff-b54c-4a7f-b655-f91937133eff"
      },
      "outputs": [
        {
          "name": "stdout",
          "output_type": "stream",
          "text": [
            "opa\n",
            "opa\n",
            "opa\n",
            "opa\n"
          ]
        },
        {
          "data": {
            "image/png": "[encoded data removed]",
            "text/plain": [
              "<Figure size 200x200 with 4 Axes>"
            ]
          },
          "metadata": {},
          "output_type": "display_data"
        }
      ],
      "source": [
        "figure, axes = plt.subplots(nrows=2, ncols=2, figsize=(2, 2))\n",
        "\n",
        "for item in zip(axes.ravel(), digits.images, digits.target):\n",
        "    print(\"opa\")\n",
        "    axes, image, target = item\n",
        "    axes.imshow(image, cmap=plt.cm.gray_r)\n",
        "    axes.set_xticks([]) \n",
        "    axes.set_yticks([])  \n",
        "    axes.set_title(target)\n",
        "    \n",
        "# usado para um numero nao ficar em cima do outro        \n",
        "plt.tight_layout() "
      ]
    },
    {
      "cell_type": "markdown",
      "metadata": {
        "id": "8d8JkaJKcv9O"
      },
      "source": [
        "### Implementação do classificador"
      ]
    },
    {
      "cell_type": "code",
      "execution_count": 3,
      "metadata": {
        "id": "4uvAVl5Cc6nc"
      },
      "outputs": [],
      "source": [
        "def calcula_distancia(x1,x2,p):\n",
        "    soma = 0\n",
        "    for i in range(len(x1)):\n",
        "        soma += abs(x1[i] - x2[i])**p\n",
        "    return soma**(1/p)"
      ]
    },
    {
      "cell_type": "code",
      "execution_count": 4,
      "metadata": {
        "id": "djKfKKldN96O"
      },
      "outputs": [],
      "source": [
        "from collections import Counter\n",
        "\n",
        "def KNN_algoritmo(digito,X,y,k,p):\n",
        "\n",
        "  #calcula a norma do digito para todos os outros arrays do dataset\n",
        "  distancias = []\n",
        "  for i in range(len(X)):\n",
        "      dist = calcula_distancia(digito,X[i],p)\n",
        "      distancias.append(dist)\n",
        "\n",
        "  #Ordena e faz o slice dos primeiros k\n",
        "  menores_distancias = sorted(distancias)[:k]\n",
        "\n",
        "  #procura os index das k menores distancias\n",
        "  vizinhos = []\n",
        "  for i in range(k):\n",
        "      index = distancias.index(menores_distancias[i])\n",
        "      vizinhos.append(index)\n",
        "\n",
        "\n",
        "  #lista com o label dos vizinhos\n",
        "  labels = []\n",
        "  for i in vizinhos:\n",
        "      labels.append(y[i])\n",
        "  #print(labels)\n",
        "\n",
        "  #faz a votação\n",
        "  result = Counter(labels).most_common()[0][0]\n",
        "\n",
        "  #print(\"A classificação pelo KNN É = \",result)\n",
        "  return result"
      ]
    },
    {
      "cell_type": "code",
      "execution_count": 5,
      "metadata": {
        "id": "hVxZrmxJaR7m"
      },
      "outputs": [],
      "source": [
        "def acuracia(X_test,y_test,k,p):\n",
        "  acertos = 0\n",
        "  loss = []\n",
        "  for i in range(len(X_test)):\n",
        "    #se acertar a classificação\n",
        "    if KNN_algoritmo(X_test[i],X_test,y_test,k,p) == y_test[i]:\n",
        "      acertos += 1\n",
        "  \n",
        "  return acertos / len(X_test) * 100"
      ]
    },
    {
      "cell_type": "code",
      "execution_count": 6,
      "metadata": {
        "colab": {
          "base_uri": "https://localhost:8080/"
        },
        "id": "NagCdpULYAvb",
        "outputId": "57134b08-a717-4de8-e710-8aa5b719eb6c"
      },
      "outputs": [
        {
          "name": "stdout",
          "output_type": "stream",
          "text": [
            "Tamanho X_train = 1437, Tamanho X_test = 360\n",
            "Tamanho y_train = 1437, Tamanho y_test = 360\n"
          ]
        }
      ],
      "source": [
        "#train_test_split\n",
        "X_train, X_test, y_train, y_test = train_test_split(digits.data,digits.target,test_size=0.2, random_state=42)\n",
        "print(\"Tamanho X_train = {}, Tamanho X_test = {}\".format(len(X_train),len(X_test)))\n",
        "print(\"Tamanho y_train = {}, Tamanho y_test = {}\".format(len(y_train),len(y_test)))"
      ]
    },
    {
      "cell_type": "code",
      "execution_count": 7,
      "metadata": {
        "colab": {
          "base_uri": "https://localhost:8080/",
          "height": 317
        },
        "id": "ZKq8mPPqYJOy",
        "outputId": "6f89bbc9-89ee-41a7-ab10-9cb87c063178"
      },
      "outputs": [
        {
          "name": "stdout",
          "output_type": "stream",
          "text": [
            "CPU times: total: 46.9 ms\n",
            "Wall time: 51.8 ms\n"
          ]
        },
        {
          "data": {
            "text/plain": [
              "2"
            ]
          },
          "execution_count": 7,
          "metadata": {},
          "output_type": "execute_result"
        },
        {
          "data": {
            "image/png": "[encoded data removed]",
            "text/plain": [
              "<Figure size 640x480 with 1 Axes>"
            ]
          },
          "metadata": {},
          "output_type": "display_data"
        }
      ],
      "source": [
        "#Escolhe um ponto aleatório\n",
        "digito = X_train[99]\n",
        "\n",
        "#plot do digito\n",
        "plt.imshow(digito.reshape(8,8),cmap=plt.cm.gray_r)\n",
        "\n",
        "%time KNN_algoritmo(digito,X_train,y_train,k=5,p=2)"
      ]
    },
    {
      "cell_type": "code",
      "execution_count": 8,
      "metadata": {
        "colab": {
          "base_uri": "https://localhost:8080/"
        },
        "id": "lCmCPoQ6c3WE",
        "outputId": "4a38049f-1223-4d26-9b3b-b38b05fd8b29"
      },
      "outputs": [
        {
          "name": "stdout",
          "output_type": "stream",
          "text": [
            "Acurária =  98.61111111111111\n",
            "CPU times: total: 2.98 s\n",
            "Wall time: 3.14 s\n"
          ]
        }
      ],
      "source": [
        "%time acuracy = print(\"Acurária = \",acuracia(X_test,y_test,k=5,p=2))"
      ]
    },
    {
      "cell_type": "markdown",
      "metadata": {
        "id": "xtZdAE8D116p"
      },
      "source": [
        "### Implementação do KNN do Scikit"
      ]
    },
    {
      "cell_type": "code",
      "execution_count": 9,
      "metadata": {
        "colab": {
          "base_uri": "https://localhost:8080/"
        },
        "id": "iuqFpIZvyfS3",
        "outputId": "22930b71-0cbd-4a86-8904-f7c9b5e03c1b"
      },
      "outputs": [
        {
          "name": "stdout",
          "output_type": "stream",
          "text": [
            "CPU times: total: 0 ns\n",
            "Wall time: 1 ms\n",
            "              precision    recall  f1-score   support\n",
            "\n",
            "           0       1.00      1.00      1.00        33\n",
            "           1       1.00      1.00      1.00        28\n",
            "           2       1.00      1.00      1.00        33\n",
            "           3       1.00      1.00      1.00        34\n",
            "           4       0.98      1.00      0.99        46\n",
            "           5       0.98      0.96      0.97        47\n",
            "           6       0.97      1.00      0.99        35\n",
            "           7       1.00      0.97      0.99        34\n",
            "           8       1.00      1.00      1.00        30\n",
            "           9       0.95      0.95      0.95        40\n",
            "\n",
            "    accuracy                           0.99       360\n",
            "   macro avg       0.99      0.99      0.99       360\n",
            "weighted avg       0.99      0.99      0.99       360\n",
            "\n",
            "A classificação do KNN do Scikit é = [2]\n"
          ]
        }
      ],
      "source": [
        "#implementando o KNN do Scikit-learn\n",
        "\n",
        "#instancia o objeto\n",
        "KNN = KNeighborsClassifier(n_neighbors=5,p=2)\n",
        "#Fit\n",
        "%time KNN.fit(X_train,y_train)\n",
        "#teste\n",
        "y_pred = KNN.predict(X_test)\n",
        "#Validação\n",
        "print(classification_report(y_test, y_pred))\n",
        "\n",
        "#classifica o digito\n",
        "print(\"A classificação do KNN do Scikit é =\",KNN.predict(digito.reshape(1,-1)))"
      ]
    },
    {
      "cell_type": "markdown",
      "metadata": {
        "id": "xuDVXDs3116x"
      },
      "source": [
        "### Conclusão:\n",
        "* Apresentam acurácia semelhante.\n",
        "* O modelo do Scikit é mais rápido"
      ]
    }
  ],
  "metadata": {
    "colab": {
      "provenance": []
    },
    "kernelspec": {
      "display_name": "Python 3 (ipykernel)",
      "language": "python",
      "name": "python3"
    },
    "language_info": {
      "codemirror_mode": {
        "name": "ipython",
        "version": 3
      },
      "file_extension": ".py",
      "mimetype": "text/x-python",
      "name": "python",
      "nbconvert_exporter": "python",
      "pygments_lexer": "ipython3",
      "version": "3.12.4"
    }
  },
  "nbformat": 4,
  "nbformat_minor": 0
}
